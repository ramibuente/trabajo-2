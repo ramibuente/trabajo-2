{
 "cells": [
  {
   "cell_type": "code",
   "execution_count": 3,
   "id": "1ebbb706-7da7-4b41-baae-ee2ebdfe1aed",
   "metadata": {},
   "outputs": [
    {
     "name": "stdout",
     "output_type": "stream",
     "text": [
      "Beautiful is better than ugly.\n",
      "Explicit is better than implicit.\n",
      "Simple is better than complex.\n",
      "Complex is better than complicated.\n",
      "Flat is better than nested.\n",
      "Sparse is better than dense.\n",
      "Unless explicitly silenced.\n",
      "Now is better than never.\n",
      "Now is better than never.\n"
     ]
    }
   ],
   "source": [
    "##ejercicio 1\n",
    "zen_text = \"\"\"The Zen of Python, by Tim Peters.\n",
    "Beautiful is better than ugly.\n",
    "Explicit is better than implicit.\n",
    "Simple is better than complex.\n",
    "Complex is better than complicated.\n",
    "Flat is better than nested.\n",
    "Sparse is better than dense.\n",
    "Readability counts.\n",
    "Special cases aren't special enough to break the rules.\n",
    "Although practicality beats purity.\n",
    "Errors should never pass silently.\n",
    "Unless explicitly silenced.\n",
    "In the face of ambiguity, refuse the temptation to guess.\n",
    "There should be one-- and preferably only one --obvious way to do it.\n",
    "Although that way may not be obvious at first unless you're Dutch.\n",
    "Now is better than never.\n",
    "Now is better than never.\n",
    "Although never is often better than *right* now.\n",
    "If the implementation is hard to explain, it's a bad idea.\n",
    "If the implementation is easy to explain, it may be a good idea.\n",
    "-- let's do more of those!\"\"\"\n",
    "vocales=('A','E','I','O','U','a','e','i','o','u')\n",
    "palabras=zen_text.splitlines() #separo por lineas el zen\n",
    "for linea in palabras:\n",
    "    palabra=linea.split()  #separo la linea por cada palabra\n",
    "    if palabra [1].startswith(vocales):   #pregunto si la segunda palabra empieza con vocal\n",
    "        print(linea)"
   ]
  },
  {
   "cell_type": "code",
   "execution_count": 9,
   "id": "248ea361-92d1-4601-8f93-e87be2997bf7",
   "metadata": {},
   "outputs": [
    {
     "name": "stdout",
     "output_type": "stream",
     "text": [
      "Titulo con mas palabras:  Jugando al nuevo FPS del momento con amigos\n"
     ]
    }
   ],
   "source": [
    "#ejercicio 2\n",
    "def contar_palabras(titulos): #creo la funcion para contar las palabras de los titulos\n",
    "    return len(titulos.split())\n",
    "titulos=[\"Speedrun de Super Mario en tiempo récord\",\"Charla sobre desarrollo de videojuegos\",\n",
    "\"Jugando al nuevo FPS del momento con amigos\",\n",
    "\"Música en vivo: improvisaciones al piano\"]\n",
    "titulo_mas_largo=max(titulos,key=contar_palabras) #encuentro el titulo mas largo usando como key mi funcion \n",
    "print(\"Titulo con mas palabras: \", titulo_mas_largo)\n",
    "\n"
   ]
  },
  {
   "cell_type": "code",
   "execution_count": 36,
   "id": "efea34a6-1e8a-4119-bb8f-4fd748fa1714",
   "metadata": {},
   "outputs": [
    {
     "name": "stdin",
     "output_type": "stream",
     "text": [
      "Ingrese una palabra clave:  moderadores\n"
     ]
    },
    {
     "name": "stdout",
     "output_type": "stream",
     "text": [
      "Sigue las instrucciones de los moderadores.\n"
     ]
    }
   ],
   "source": [
    "##ejercicio 3\n",
    "rules = \"\"\"Respeta a los demás. No se permiten insultos ni lenguaje ofensivo.\n",
    "Evita el spam. No publiques enlaces sospechosos o repetitivos.\n",
    "No compartas información personal.\n",
    "Usa los canales adecuados para cada tema.\n",
    "Sigue las instrucciones de los moderadores.\"\"\"\n",
    "palabra_clave=input(\"Ingrese una palabra clave: \") #pido al usuario que ponga la palabra que busca\n",
    "for linea in rules.splitlines():   #separo las reglas por lineas\n",
    "    if palabra_clave in linea:     #pregunto si la palabra clave esta en la linea/regla\n",
    "        print(linea)"
   ]
  },
  {
   "cell_type": "code",
   "execution_count": 5,
   "id": "b722694a-5918-484d-a51d-2bbaa3c930a8",
   "metadata": {},
   "outputs": [
    {
     "name": "stdin",
     "output_type": "stream",
     "text": [
      "Ingrese un nombre de usuario:  gam\n"
     ]
    },
    {
     "name": "stdout",
     "output_type": "stream",
     "text": [
      "El nombre de usuario debe tener al menos 5 caracteres.\n"
     ]
    }
   ],
   "source": [
    "#ejercicio 4\n",
    "def validar_usuario(usuario):\n",
    "    # Verifica longitud mínima de 5 caracteres\n",
    "    if len(usuario) < 5:\n",
    "        return \"El nombre de usuario debe tener al menos 5 caracteres.\"\n",
    "\n",
    "    # Verifica si contiene al menos un número\n",
    "    if not any(char.isdigit() for char in usuario):\n",
    "        return \"El nombre de usuario debe contener al menos un número.\"\n",
    "\n",
    "    # Verifica si contiene al menos una letra mayúscula\n",
    "    if not any(char.isupper() for char in usuario):\n",
    "        return \"El nombre de usuario debe contener al menos una letra mayúscula.\"\n",
    "\n",
    "    # Verifica si solo contiene letras y números\n",
    "    if not usuario.isalnum():\n",
    "        return \"El nombre de usuario solo puede contener letras y números.\"\n",
    "\n",
    "    return \"El nombre de usuario es válido.\"\n",
    "\n",
    "\n",
    "usuario = input(\"Ingrese un nombre de usuario: \")  #pide al usuario que ingrese su nombre de usuario\n",
    "resultado = validar_usuario(usuario)   #lo valida\n",
    "print(resultado)\n"
   ]
  },
  {
   "cell_type": "code",
   "execution_count": 22,
   "id": "86d93800-40c0-4b87-8c08-f98d4451dc51",
   "metadata": {},
   "outputs": [
    {
     "name": "stdin",
     "output_type": "stream",
     "text": [
      "ingrese su velocidad de respuesta en ms 250\n"
     ]
    },
    {
     "name": "stdout",
     "output_type": "stream",
     "text": [
      "Categoria: Normal\n"
     ]
    }
   ],
   "source": [
    "#ejercicio 5\n",
    "def clasificacion_velocidad(velocidad): #funcion para clasificar la velocidad ingresada\n",
    "    match velocidad:\n",
    "        case velocidad if velocidad < 200:\n",
    "            return \"Categoria: Rapido\"\n",
    "        case velocidad if velocidad > 200 and velocidad < 500:\n",
    "            return \"Categoria: Normal\"\n",
    "        case velocidad if velocidad > 500:\n",
    "            return \"Categoria: Lento\"\n",
    "velocidad= int(input(\"ingrese su velocidad de respuesta en ms\"))\n",
    "resultado= clasificacion_velocidad(velocidad)\n",
    "print(resultado)"
   ]
  },
  {
   "cell_type": "code",
   "execution_count": 149,
   "id": "eade3892-05bc-4583-ad72-4acfa3f32119",
   "metadata": {},
   "outputs": [
    {
     "name": "stdout",
     "output_type": "stream",
     "text": [
      "la cantidad de veces que aparece  música  son  4  veces\n",
      "la cantidad de veces que aparece  charla  son  2  veces\n",
      "la cantidad de veces que aparece  entretenimiento  son  1  veces\n"
     ]
    }
   ],
   "source": [
    "#ejercicio 6\n",
    "import re\n",
    "descriptions = [\"Streaming de música en vivo con covers y composiciones\",\n",
    "\"Charla interactiva con la audiencia sobre series y películas\",\n",
    "\"Jugamos a juegos retro y charlamos sobre su historia\",\n",
    "\"Exploramos la mejor música de los 80s y 90s\",\n",
    "\"Programa de entretenimiento con noticias y curiosidades del mundo gamer\",\n",
    "\"Sesión de charla con invitados especiales del mundo del streaming\",\n",
    "\"Música en directo con improvisaciones y peticiones del chat\",\n",
    "\"Un espacio para charlar relajada sobre tecnología y cultura digital\",\n",
    "\"Exploramos el impacto de la música en los videojuegos clásicos\"]\n",
    "#palabras a buscar:\n",
    "palabra1='música' \n",
    "palabra2='charla'\n",
    "palabra3='entretenimiento'\n",
    "#re.findall devuelve una lista con todas las coincidencias de una variable en una cadena de texto.\n",
    "# r''cadena raw (sin procesar \\)\n",
    "#\\b límite de palabra (inicio o fin)\n",
    "conteo1 = sum(len(re.findall(r'\\b' + palabra1 + r'\\b', frase.lower())) for frase in descriptions)\n",
    "conteo2 = sum(len(re.findall(r'\\b' + palabra2 + r'\\b', frase.lower())) for frase in descriptions)\n",
    "conteo3 = sum(len(re.findall(r'\\b' + palabra3 + r'\\b', frase.lower())) for frase in descriptions)\n",
    "print(\"la cantidad de veces que aparece \",palabra1,\" son \",conteo1,\" veces\")\n",
    "print(\"la cantidad de veces que aparece \",palabra2,\" son \",conteo2,\" veces\")\n",
    "print(\"la cantidad de veces que aparece \",palabra3,\" son \",conteo3,\" veces\")\n",
    "\n"
   ]
  },
  {
   "cell_type": "code",
   "execution_count": 137,
   "id": "afc8653b-ac13-40aa-9120-434aef48b44b",
   "metadata": {},
   "outputs": [
    {
     "name": "stdout",
     "output_type": "stream",
     "text": [
      "--------------------------------------------------\n",
      "Ranking ronda:  1\n",
      "Jugador    Kills  Asistencias Muertes Puntos\n",
      "--------------------------------------------------\n",
      "Shadow     2      1          1       6     \n",
      "Blaze      1      0          0       3     \n",
      "Viper      1      2          1       4     \n",
      "Frost      0      1          0       1     \n",
      "Reaper     1      1          0       4     \n",
      "--------------------------------------------------\n",
      "Ranking ronda:  2\n",
      "Jugador    Kills  Asistencias Muertes Puntos\n",
      "--------------------------------------------------\n",
      "Shadow     0      2          0       2     \n",
      "Blaze      2      0          1       5     \n",
      "Viper      1      1          0       4     \n",
      "Frost      2      1          1       6     \n",
      "Reaper     0      1          0       1     \n",
      "--------------------------------------------------\n",
      "Ranking ronda:  3\n",
      "Jugador    Kills  Asistencias Muertes Puntos\n",
      "--------------------------------------------------\n",
      "Shadow     1      0          0       3     \n",
      "Blaze      2      2          1       7     \n",
      "Viper      1      1          1       3     \n",
      "Frost      0      1          0       1     \n",
      "Reaper     1      1          0       4     \n",
      "--------------------------------------------------\n",
      "Ranking ronda:  4\n",
      "Jugador    Kills  Asistencias Muertes Puntos\n",
      "--------------------------------------------------\n",
      "Shadow     2      1          0       7     \n",
      "Blaze      1      0          1       2     \n",
      "Viper      0      2          0       2     \n",
      "Frost      1      1          1       3     \n",
      "Reaper     1      1          0       4     \n",
      "--------------------------------------------------\n",
      "Ranking ronda:  5\n",
      "Jugador    Kills  Asistencias Muertes Puntos\n",
      "--------------------------------------------------\n",
      "Shadow     1      2          1       4     \n",
      "Blaze      0      1          0       1     \n",
      "Viper      2      0          1       5     \n",
      "Frost      1      1          0       4     \n",
      "Reaper     1      1          1       3     \n",
      "--------------------------------------------------\n",
      "Ranking ronda final\n",
      "Jugador   Kills   Asistencias   Muertes  MVP   Puntos\n",
      "--------------------------------------------------\n",
      " Shadow       6        6         2       2       22\n",
      " Blaze        6        3         3       1       18\n",
      " Viper        5        6         3       1       18\n",
      " Reaper       4        5         1       0       16\n",
      " Frost        4        5         2       1       15\n"
     ]
    }
   ],
   "source": [
    "#ejercicio 10\n",
    "def ordenarPuntos(diccionario):         #funcion para ordenar el diccionario por puntos\n",
    "    return sorted(diccionario.items , key=lambda x: x[1]['puntos'], reverse=True)\n",
    "\n",
    "rounds = [\n",
    "{\n",
    "'Shadow': {'kills': 2, 'assists': 1, 'deaths': True},\n",
    "'Blaze': {'kills': 1, 'assists': 0, 'deaths': False},\n",
    "'Viper': {'kills': 1, 'assists': 2, 'deaths': True},\n",
    "'Frost': {'kills': 0, 'assists': 1, 'deaths': False},\n",
    "'Reaper': {'kills': 1, 'assists': 1, 'deaths': False}\n",
    "},\n",
    "{\n",
    "'Shadow': {'kills': 0, 'assists': 2, 'deaths': False},\n",
    "'Blaze': {'kills': 2, 'assists': 0, 'deaths': True},\n",
    "'Viper': {'kills': 1, 'assists': 1, 'deaths': False},\n",
    "'Frost': {'kills': 2, 'assists': 1, 'deaths': True},\n",
    "'Reaper': {'kills': 0, 'assists': 1, 'deaths': False}\n",
    "},\n",
    "{\n",
    "'Shadow': {'kills': 1, 'assists': 0, 'deaths': False},\n",
    "'Blaze': {'kills': 2, 'assists': 2, 'deaths': True},\n",
    "'Viper': {'kills': 1, 'assists': 1, 'deaths': True},\n",
    "'Frost': {'kills': 0, 'assists': 1, 'deaths': False},\n",
    "'Reaper': {'kills': 1, 'assists': 1, 'deaths': False}\n",
    "},\n",
    "{\n",
    "'Shadow': {'kills': 2, 'assists': 1, 'deaths': False},\n",
    "'Blaze': {'kills': 1, 'assists': 0, 'deaths': True},\n",
    "'Viper': {'kills': 0, 'assists': 2, 'deaths': False},\n",
    "'Frost': {'kills': 1, 'assists': 1, 'deaths': True},\n",
    "'Reaper': {'kills': 1, 'assists': 1, 'deaths': False}\n",
    "},\n",
    "{\n",
    "'Shadow': {'kills': 1, 'assists': 2, 'deaths': True},\n",
    "'Blaze': {'kills': 0, 'assists': 1, 'deaths': False},\n",
    "'Viper': {'kills': 2, 'assists': 0, 'deaths': True},\n",
    "'Frost': {'kills': 1, 'assists': 1, 'deaths': False},\n",
    "'Reaper': {'kills': 1, 'assists': 1, 'deaths': True}\n",
    "}\n",
    "]\n",
    "rondas=1\n",
    "jugadores = {} #creo el diccionario el cual voy a guardar mis datos globales de la partida\n",
    "for nombre in rounds[0]:\n",
    "    jugadores[nombre] = {'kills': 0,'assists': 0,'deaths': 0,'mvp': 0,'puntos': 0}\n",
    "for i in rounds: #creo el esquema de la tabla de posiciones de cada ronda\n",
    "    print(\"-\" * 50)\n",
    "    print('Ranking ronda: ',rondas)\n",
    "    print(f\"{'Jugador':<10} {'Kills':<6} {'Asistencias':<10} {'Muertes':<7} {'Puntos':<6}\")\n",
    "    print(\"-\" * 50)\n",
    "    rondas+=1\n",
    "    puntos_ronda={}\n",
    "    for jugador in i:\n",
    "        points = i[jugador]['kills'] * 3 + i[jugador]['assists'] - i[jugador]['deaths']  #sistema de puntos utilizado en este juego\n",
    "       #guardo sus estadisticas en el diccionario global creado anteriormente\n",
    "        jugadores[jugador]['kills']+=i[jugador]['kills']\n",
    "        jugadores[jugador]['assists']+=i[jugador]['assists']\n",
    "        if i[jugador]['deaths']:\n",
    "            jugadores[jugador]['deaths']+=1\n",
    "        jugadores[jugador]['puntos']+=points\n",
    "\n",
    "        puntos_ronda[jugador]=points\n",
    "        print(f\"{jugador:<10} {i[jugador]['kills']:<6} {i[jugador]['assists']:<10} {i[jugador]['deaths']:<7} {points:<6}\") #imprimo las estadisticas de esa ronda\n",
    "    mvp_nombre= max(puntos_ronda, key=puntos_ronda.get)  #consigo cual fue el que mas puntos tuvo en la ronda\n",
    "    jugadores[mvp_nombre]['mvp']+=1 #le sumo 1 mvp a su estadistica global\n",
    "ranking_final_ordenado=ordenarP(jugadores)   #ordeno el ranking final por puntos con la funcion anteriormente creada\n",
    "print(\"-\" * 50)\n",
    "print('Ranking ronda final')\n",
    "print(\"Jugador   Kills   Asistencias   Muertes  MVP   Puntos\")\n",
    "print(\"-\" * 50)\n",
    "for nombre in ranking_final_ordenado: #imprimo el ranking final con todas las estadisticas de la partida\n",
    "    print(f\" {nombre[0]}{(\" \")* (6-len(nombre[0]))}       {nombre[1]['kills']}        {nombre[1]['assists']}         {nombre[1]['deaths']}       {nombre[1][\"mvp\"]}       {nombre[1]['puntos']}\")\n"
   ]
  },
  {
   "cell_type": "code",
   "execution_count": null,
   "id": "c0855b89-be4b-40ba-bec5-9b943b8753b4",
   "metadata": {},
   "outputs": [],
   "source": []
  }
 ],
 "metadata": {
  "kernelspec": {
   "display_name": "Python [conda env:base] *",
   "language": "python",
   "name": "conda-base-py"
  },
  "language_info": {
   "codemirror_mode": {
    "name": "ipython",
    "version": 3
   },
   "file_extension": ".py",
   "mimetype": "text/x-python",
   "name": "python",
   "nbconvert_exporter": "python",
   "pygments_lexer": "ipython3",
   "version": "3.12.7"
  }
 },
 "nbformat": 4,
 "nbformat_minor": 5
}
