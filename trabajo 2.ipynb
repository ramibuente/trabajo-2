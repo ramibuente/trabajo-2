{
 "cells": [
  {
   "cell_type": "code",
   "execution_count": 3,
   "id": "1ebbb706-7da7-4b41-baae-ee2ebdfe1aed",
   "metadata": {},
   "outputs": [
    {
     "name": "stdout",
     "output_type": "stream",
     "text": [
      "Beautiful is better than ugly.\n",
      "Explicit is better than implicit.\n",
      "Simple is better than complex.\n",
      "Complex is better than complicated.\n",
      "Flat is better than nested.\n",
      "Sparse is better than dense.\n",
      "Unless explicitly silenced.\n",
      "Now is better than never.\n",
      "Now is better than never.\n"
     ]
    }
   ],
   "source": [
    "zen_text = \"\"\"The Zen of Python, by Tim Peters.\n",
    "Beautiful is better than ugly.\n",
    "Explicit is better than implicit.\n",
    "Simple is better than complex.\n",
    "Complex is better than complicated.\n",
    "Flat is better than nested.\n",
    "Sparse is better than dense.\n",
    "Readability counts.\n",
    "Special cases aren't special enough to break the rules.\n",
    "Although practicality beats purity.\n",
    "Errors should never pass silently.\n",
    "Unless explicitly silenced.\n",
    "In the face of ambiguity, refuse the temptation to guess.\n",
    "There should be one-- and preferably only one --obvious way to do it.\n",
    "Although that way may not be obvious at first unless you're Dutch.\n",
    "Now is better than never.\n",
    "Now is better than never.\n",
    "Although never is often better than *right* now.\n",
    "If the implementation is hard to explain, it's a bad idea.\n",
    "If the implementation is easy to explain, it may be a good idea.\n",
    "-- let's do more of those!\"\"\"\n",
    "vocales=('A','E','I','O','U','a','e','i','o','u')\n",
    "palabras=zen_text.splitlines()\n",
    "for linea in palabras:\n",
    "    palabra=linea.split()\n",
    "    if palabra [1].startswith(vocales):\n",
    "        print(linea)"
   ]
  },
  {
   "cell_type": "code",
   "execution_count": 9,
   "id": "248ea361-92d1-4601-8f93-e87be2997bf7",
   "metadata": {},
   "outputs": [
    {
     "name": "stdout",
     "output_type": "stream",
     "text": [
      "Titulo con mas palabras:  Jugando al nuevo FPS del momento con amigos\n"
     ]
    }
   ],
   "source": [
    "def contar_palabras(titulos):\n",
    "    return len(titulos.split())\n",
    "titulos=[\"Speedrun de Super Mario en tiempo récord\",\"Charla sobre desarrollo de videojuegos\",\n",
    "\"Jugando al nuevo FPS del momento con amigos\",\n",
    "\"Música en vivo: improvisaciones al piano\"]\n",
    "titulo_mas_largo=max(titulos,key=contar_palabras)\n",
    "print(\"Titulo con mas palabras: \", titulo_mas_largo)\n",
    "\n"
   ]
  },
  {
   "cell_type": "code",
   "execution_count": 36,
   "id": "efea34a6-1e8a-4119-bb8f-4fd748fa1714",
   "metadata": {},
   "outputs": [
    {
     "name": "stdin",
     "output_type": "stream",
     "text": [
      "Ingrese una palabra clave:  moderadores\n"
     ]
    },
    {
     "name": "stdout",
     "output_type": "stream",
     "text": [
      "Sigue las instrucciones de los moderadores.\n"
     ]
    }
   ],
   "source": [
    "rules = \"\"\"Respeta a los demás. No se permiten insultos ni lenguaje ofensivo.\n",
    "Evita el spam. No publiques enlaces sospechosos o repetitivos.\n",
    "No compartas información personal.\n",
    "Usa los canales adecuados para cada tema.\n",
    "Sigue las instrucciones de los moderadores.\"\"\"\n",
    "palabra_clave=input(\"Ingrese una palabra clave: \")\n",
    "for linea in rules.splitlines():\n",
    "    if palabra_clave in linea:\n",
    "        print(linea)"
   ]
  },
  {
   "cell_type": "code",
   "execution_count": 5,
   "id": "b722694a-5918-484d-a51d-2bbaa3c930a8",
   "metadata": {},
   "outputs": [
    {
     "name": "stdin",
     "output_type": "stream",
     "text": [
      "Ingrese un nombre de usuario:  gam\n"
     ]
    },
    {
     "name": "stdout",
     "output_type": "stream",
     "text": [
      "El nombre de usuario debe tener al menos 5 caracteres.\n"
     ]
    }
   ],
   "source": [
    "def validar_usuario(usuario):\n",
    "    # Verifica longitud mínima de 5 caracteres\n",
    "    if len(usuario) < 5:\n",
    "        return \"El nombre de usuario debe tener al menos 5 caracteres.\"\n",
    "\n",
    "    # Verifica si contiene al menos un número\n",
    "    if not any(char.isdigit() for char in usuario):\n",
    "        return \"El nombre de usuario debe contener al menos un número.\"\n",
    "\n",
    "    # Verifica si contiene al menos una letra mayúscula\n",
    "    if not any(char.isupper() for char in usuario):\n",
    "        return \"El nombre de usuario debe contener al menos una letra mayúscula.\"\n",
    "\n",
    "    # Verifica si solo contiene letras y números\n",
    "    if not usuario.isalnum():\n",
    "        return \"El nombre de usuario solo puede contener letras y números.\"\n",
    "\n",
    "    return \"El nombre de usuario es válido.\"\n",
    "\n",
    "\n",
    "usuario = input(\"Ingrese un nombre de usuario: \")\n",
    "resultado = validar_usuario(usuario)\n",
    "print(resultado)\n"
   ]
  },
  {
   "cell_type": "code",
   "execution_count": 22,
   "id": "86d93800-40c0-4b87-8c08-f98d4451dc51",
   "metadata": {},
   "outputs": [
    {
     "name": "stdin",
     "output_type": "stream",
     "text": [
      "ingrese su velocidad de respuesta en ms 250\n"
     ]
    },
    {
     "name": "stdout",
     "output_type": "stream",
     "text": [
      "Categoria: Normal\n"
     ]
    }
   ],
   "source": [
    "def clasificacion_velocidad(velocidad):\n",
    "    match velocidad:\n",
    "        case velocidad if velocidad < 200:\n",
    "            return \"Categoria: Rapido\"\n",
    "        case velocidad if velocidad > 200 and velocidad < 500:\n",
    "            return \"Categoria: Normal\"\n",
    "        case velocidad if velocidad > 500:\n",
    "            return \"Categoria: Lento\"\n",
    "velocidad= int(input(\"ingrese su velocidad de respuesta en ms\"))\n",
    "resultado= clasificacion_velocidad(velocidad)\n",
    "print(resultado)"
   ]
  },
  {
   "cell_type": "code",
   "execution_count": 28,
   "id": "eade3892-05bc-4583-ad72-4acfa3f32119",
   "metadata": {},
   "outputs": [
    {
     "name": "stdout",
     "output_type": "stream",
     "text": [
      "la cantidad de veces que aparece  música  son  4  veces\n",
      "la cantidad de veces que aparece  charla  son  4  veces\n",
      "la cantidad de veces que aparece  entretenimiento  son  1  veces\n"
     ]
    }
   ],
   "source": [
    "descriptions = [\"Streaming de música en vivo con covers y composiciones\",\n",
    "\"Charla interactiva con la audiencia sobre series y películas\",\n",
    "\"Jugamos a juegos retro y charlamos sobre su historia\",\n",
    "\"Exploramos la mejor música de los 80s y 90s\",\n",
    "\"Programa de entretenimiento con noticias y curiosidades del mundo gamer\",\n",
    "\"Sesión de charla con invitados especiales del mundo del streaming\",\n",
    "\"Música en directo con improvisaciones y peticiones del chat\",\n",
    "\"Un espacio para charlar relajada sobre tecnología y cultura digital\",\n",
    "\"Exploramos el impacto de la música en los videojuegos clásicos\"]\n",
    "palabra1='música'\n",
    "palabra2='charla'\n",
    "palabra3='entretenimiento'\n",
    "conteo1=sum(frase1.lower().count(palabra1) for frase1 in descriptions)\n",
    "conteo2=conteo1=sum(frase2.lower().count(palabra2) for frase2 in descriptions)\n",
    "conteo3=sum(frase3.lower().count(palabra3) for frase3 in descriptions)\n",
    "print(\"la cantidad de veces que aparece \",palabra1,\" son \",conteo1,\" veces\")\n",
    "print(\"la cantidad de veces que aparece \",palabra2,\" son \",conteo2,\" veces\")\n",
    "print(\"la cantidad de veces que aparece \",palabra3,\" son \",conteo3,\" veces\")\n",
    "\n"
   ]
  },
  {
   "cell_type": "code",
   "execution_count": null,
   "id": "afc8653b-ac13-40aa-9120-434aef48b44b",
   "metadata": {},
   "outputs": [],
   "source": []
  }
 ],
 "metadata": {
  "kernelspec": {
   "display_name": "Python [conda env:base] *",
   "language": "python",
   "name": "conda-base-py"
  },
  "language_info": {
   "codemirror_mode": {
    "name": "ipython",
    "version": 3
   },
   "file_extension": ".py",
   "mimetype": "text/x-python",
   "name": "python",
   "nbconvert_exporter": "python",
   "pygments_lexer": "ipython3",
   "version": "3.12.7"
  }
 },
 "nbformat": 4,
 "nbformat_minor": 5
}
